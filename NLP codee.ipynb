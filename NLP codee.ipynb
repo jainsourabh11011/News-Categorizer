{
 "cells": [
  {
   "cell_type": "code",
   "execution_count": 29,
   "metadata": {},
   "outputs": [
    {
     "name": "stdout",
     "output_type": "stream",
     "text": [
      "sc tells govt. to review orders — curbing basic rights in j&k  it asks for publication of all orders on restrictions and review of net sugpension  ~ krishnadas rajagopal new delhi     ’the supreme court on fri- |  _ day ordered the government : to review “forthwith” any ex- isting orders that restrict basic rights and free move- } ment in jammu and kashmir. the court upheld the free- doms of free speech, expres- sion and trade or business on the internet as funda- ; mental rights to be constitu- : tionally protected. * it, however, refused to ex- _ press any views on whether ‘ the very access to internet is a fundamental right or not. + thetop court directed the ‘government to review orders suspending internet services in the erstwhile state in- 5 atl: any order suspend- hing. internet found to violate     life offline: students waiting to use the internet at the _ divisional commissioner's office in srinagar recently. =afp  the law should be revoked at  once, it ordered. it further instructed the  “government to consider res-  toring. government websites, localised/limited e- -banking  facilities, hospital services - and. other essential services | : jn areas in the union territo-  ty, where it was otherwise not. thinking to do. so immediately.  ripping into the veil of se- crecy shrouding the months’ long restrictions imposed across j&k,,a three-judge bench, led by justice nv. ra- mana, on friday : made. it  mandatory for the govern- ment to publish each and ev- ery one of its orders that crippled the fundamental  ’ freedoms of over seven mil-  lion kashmiris, including the suspension of telecom and internet services in the val- ley since august 5 following the abrogation of special sta- tus to the erstwhile state un- der article 370. publication of these or-  ders would now enable the  affected persons to chal- lenge their legality in the jammu and. kashmir high court or before any other  appropriate forum.  continued on) page 10 - eloquently reticent > editorial  - more reports > page 10\n",
      "\n",
      "num words 340\n"
     ]
    }
   ],
   "source": [
    "import pytesseract\n",
    "import nltk\n",
    "from PIL import Image\n",
    "from nltk import sent_tokenize\n",
    "import re\n",
    "import cv2\n",
    "pytesseract.pytesseract.tesseract_cmd = \"C:\\\\Program Files\\\\Tesseract-OCR\\\\tesseract\"\n",
    "img = cv2.imread(\"news.jpg\")\n",
    "text = pytesseract.image_to_string(img)\n",
    "with open(\"text.txt\",\"w\") as f:\n",
    "    f.write(text)\n",
    "with open('text.txt',mode=\"r\") as f:\n",
    "    s=f.readlines()\n",
    "txt=''\n",
    "for i in range(len(s)):\n",
    "    s[i]=re.sub(\"\\\\n\",' ',s[i])\n",
    "    s[i]=s[i].lower()\n",
    "    txt+=s[i]\n",
    "print(txt)\n",
    "mysentences=sent_tokenize(txt)\n",
    "nw=txt.split()\n",
    "print()\n",
    "print(\"num words\",len(nw))"
   ]
  },
  {
   "cell_type": "code",
   "execution_count": 30,
   "metadata": {},
   "outputs": [
    {
     "data": {
      "text/plain": [
       "-1"
      ]
     },
     "execution_count": 30,
     "metadata": {},
     "output_type": "execute_result"
    }
   ],
   "source": [
    "img=cv2.resize(img,(740,720))\n",
    "cv2.imshow('myimg',img)\n",
    "cv2.waitKey(0)"
   ]
  },
  {
   "cell_type": "code",
   "execution_count": 31,
   "metadata": {},
   "outputs": [],
   "source": [
    "import nltk"
   ]
  },
  {
   "cell_type": "code",
   "execution_count": 32,
   "metadata": {},
   "outputs": [],
   "source": [
    "import re\n",
    "import string\n",
    "import numpy as np\n",
    "import matplotlib.pyplot as plt\n",
    "from nltk import pos_tag\n",
    "from nltk.tokenize import sent_tokenize, word_tokenize\n",
    "from nltk.stem.wordnet import WordNetLemmatizer\n",
    "from nltk.corpus.reader.wordnet import NOUN, VERB, ADJ, ADV\n",
    "from nltk.corpus import brown, stopwords\n",
    "from nltk.cluster.util import cosine_distance\n",
    "from operator import itemgetter"
   ]
  },
  {
   "cell_type": "code",
   "execution_count": 33,
   "metadata": {},
   "outputs": [],
   "source": [
    "sentences = brown.sents('ca01')\n",
    "# sentences=\"Machine learning is an application of artificial intelligence (AI)that provides systems the ability to automatically learn and improve from experience without being explicitly programmed. Machine learning focuses on the development of computer programs that can access data and use it learn for themselves.The process of learning begins with observations or data, such as examples, direct experience, or instruction, in order to look for patterns in data and make better decisions in the future based on the examples that we provide. The primary aim is to allow the computers learn automatically without human intervention or assistance and adjust actions accordingly.\""
   ]
  },
  {
   "cell_type": "code",
   "execution_count": 34,
   "metadata": {},
   "outputs": [
    {
     "data": {
      "text/plain": [
       "[['The', 'Fulton', 'County', 'Grand', 'Jury', 'said', 'Friday', 'an', 'investigation', 'of', \"Atlanta's\", 'recent', 'primary', 'election', 'produced', '``', 'no', 'evidence', \"''\", 'that', 'any', 'irregularities', 'took', 'place', '.'], ['The', 'jury', 'further', 'said', 'in', 'term-end', 'presentments', 'that', 'the', 'City', 'Executive', 'Committee', ',', 'which', 'had', 'over-all', 'charge', 'of', 'the', 'election', ',', '``', 'deserves', 'the', 'praise', 'and', 'thanks', 'of', 'the', 'City', 'of', 'Atlanta', \"''\", 'for', 'the', 'manner', 'in', 'which', 'the', 'election', 'was', 'conducted', '.'], ...]"
      ]
     },
     "execution_count": 34,
     "metadata": {},
     "output_type": "execute_result"
    }
   ],
   "source": [
    "sentences"
   ]
  },
  {
   "cell_type": "code",
   "execution_count": 35,
   "metadata": {},
   "outputs": [
    {
     "data": {
      "text/plain": [
       "98"
      ]
     },
     "execution_count": 35,
     "metadata": {},
     "output_type": "execute_result"
    }
   ],
   "source": [
    "len(sentences)"
   ]
  },
  {
   "cell_type": "code",
   "execution_count": 36,
   "metadata": {},
   "outputs": [
    {
     "data": {
      "text/plain": [
       "[\"The Fulton County Grand Jury said Friday an investigation of Atlanta's recent primary election produced `` no evidence '' that any irregularities took place .\",\n",
       " \"The jury further said in term-end presentments that the City Executive Committee , which had over-all charge of the election , `` deserves the praise and thanks of the City of Atlanta '' for the manner in which the election was conducted .\",\n",
       " \"The September-October term jury had been charged by Fulton Superior Court Judge Durwood Pye to investigate reports of possible `` irregularities '' in the hard-fought primary which was won by Mayor-nominate Ivan Allen Jr. .\",\n",
       " \"`` Only a relative handful of such reports was received '' , the jury said , `` considering the widespread interest in the election , the number of voters and the size of this city '' .\",\n",
       " \"The jury said it did find that many of Georgia's registration and election laws `` are outmoded or inadequate and often ambiguous '' .\",\n",
       " \"It recommended that Fulton legislators act `` to have these laws studied and revised to the end of modernizing and improving them '' .\",\n",
       " \"The grand jury commented on a number of other topics , among them the Atlanta and Fulton County purchasing departments which it said `` are well operated and follow generally accepted practices which inure to the best interest of both governments '' .\",\n",
       " 'Merger proposed',\n",
       " \"However , the jury said it believes `` these two offices should be combined to achieve greater efficiency and reduce the cost of administration '' .\",\n",
       " \"The City Purchasing Department , the jury said , `` is lacking in experienced clerical personnel as a result of city personnel policies '' .\",\n",
       " \"It urged that the city `` take steps to remedy '' this problem .\",\n",
       " \"Implementation of Georgia's automobile title law was also recommended by the outgoing jury .\",\n",
       " \"It urged that the next Legislature `` provide enabling funds and re-set the effective date so that an orderly implementation of the law may be effected '' .\",\n",
       " \"The grand jury took a swipe at the State Welfare Department's handling of federal funds granted for child welfare services in foster homes .\",\n",
       " \"`` This is one of the major items in the Fulton County general assistance program '' , the jury said , but the State Welfare Department `` has seen fit to distribute these funds through the welfare departments of all the counties in the state with the exception of Fulton County , which receives none of this money .\",\n",
       " \"The jurors said they realize `` a proportionate distribution of these funds might disable this program in our less populous counties '' .\",\n",
       " \"Nevertheless , `` we feel that in the future Fulton County should receive some portion of these available funds '' , the jurors said .\",\n",
       " \"`` Failure to do this will continue to place a disproportionate burden '' on Fulton taxpayers .\",\n",
       " \"The jury also commented on the Fulton ordinary's court which has been under fire for its practices in the appointment of appraisers , guardians and administrators and the awarding of fees and compensation .\",\n",
       " 'Wards protected',\n",
       " \"The jury said it found the court `` has incorporated into its operating procedures the recommendations '' of two previous grand juries , the Atlanta Bar Association and an interim citizens committee .\",\n",
       " \"`` These actions should serve to protect in fact and in effect the court's wards from undue costs and its appointed and elected servants from unmeritorious criticisms '' , the jury said .\",\n",
       " \"Regarding Atlanta's new multi-million-dollar airport , the jury recommended `` that when the new management takes charge Jan. 1 the airport be operated in a manner that will eliminate political influences '' .\",\n",
       " \"The jury did not elaborate , but it added that `` there should be periodic surveillance of the pricing practices of the concessionaires for the purpose of keeping the prices reasonable '' .\",\n",
       " 'Ask jail deputies',\n",
       " 'On other matters , the jury recommended that : ( 1 )',\n",
       " \"Four additional deputies be employed at the Fulton County Jail and `` a doctor , medical intern or extern be employed for night and weekend duty at the jail '' .\",\n",
       " '( 2 )',\n",
       " \"Fulton legislators `` work with city officials to pass enabling legislation that will permit the establishment of a fair and equitable '' pension plan for city employes .\",\n",
       " \"The jury praised the administration and operation of the Atlanta Police Department , the Fulton Tax Commissioner's Office , the Bellwood and Alpharetta prison farms , Grady Hospital and the Fulton Health Department .\",\n",
       " 'Mayor William B. Hartsfield filed suit for divorce from his wife , Pearl Williams Hartsfield , in Fulton Superior Court Friday .',\n",
       " 'His petition charged mental cruelty .',\n",
       " 'The couple was married Aug. 2 , 1913 .',\n",
       " 'They have a son , William Berry Jr. , and a daughter , Mrs. J. M. Cheshire of Griffin .',\n",
       " 'Attorneys for the mayor said that an amicable property settlement has been agreed upon .',\n",
       " \"The petition listed the mayor's occupation as `` attorney '' and his age as 71 .\",\n",
       " \"It listed his wife's age as 74 and place of birth as Opelika , Ala. .\",\n",
       " 'The petition said that the couple has not lived together as man and wife for more than a year .',\n",
       " 'The Hartsfield home is at 637 E. Pelham Rd. Aj .',\n",
       " \"Henry L. Bowden was listed on the petition as the mayor's attorney .\",\n",
       " 'Hartsfield has been mayor of Atlanta , with exception of one brief interlude , since 1937 .',\n",
       " 'His political career goes back to his election to city council in 1923 .',\n",
       " \"The mayor's present term of office expires Jan. 1 .\",\n",
       " 'He will be succeeded by Ivan Allen Jr. , who became a candidate in the Sept. 13 primary after Mayor Hartsfield announced that he would not run for reelection .',\n",
       " \"Georgia Republicans are getting strong encouragement to enter a candidate in the 1962 governor's race , a top official said Wednesday .\",\n",
       " 'Robert Snodgrass , state GOP chairman , said a meeting held Tuesday night in Blue Ridge brought enthusiastic responses from the audience .',\n",
       " 'State Party Chairman James W. Dorsey added that enthusiasm was picking up for a state rally to be held Sept. 8 in Savannah at which newly elected Texas Sen. John Tower will be the featured speaker .',\n",
       " 'In the Blue Ridge meeting , the audience was warned that entering a candidate for governor would force it to take petitions out into voting precincts to obtain the signatures of registered voters .',\n",
       " 'Despite the warning , there was a unanimous vote to enter a candidate , according to Republicans who attended .',\n",
       " 'When the crowd was asked whether it wanted to wait one more term to make the race , it voted no -- and there were no dissents .',\n",
       " 'The largest hurdle the Republicans would have to face is a state law which says that before making a first race , one of two alternative courses must be taken : 1',\n",
       " 'Five per cent of the voters in each county must sign petitions requesting that the Republicans be allowed to place names of candidates on the general election ballot , or 2',\n",
       " 'The Republicans must hold a primary under the county unit system -- a system which the party opposes in its platform .',\n",
       " \"Sam Caldwell , State Highway Department public relations director , resigned Tuesday to work for Lt. Gov. Garland Byrd's campaign .\",\n",
       " \"Caldwell's resignation had been expected for some time .\",\n",
       " 'He will be succeeded by Rob Ledford of Gainesville , who has been an assistant more than three years .',\n",
       " 'When the gubernatorial campaign starts , Caldwell is expected to become a campaign coordinator for Byrd .',\n",
       " 'The Georgia Legislature will wind up its 1961 session Monday and head for home -- where some of the highway bond money it approved will follow shortly .',\n",
       " 'Before adjournment Monday afternoon , the Senate is expected to approve a study of the number of legislators allotted to rural and urban areas to determine what adjustments should be made .',\n",
       " 'Gov. Vandiver is expected to make the traditional visit to both chambers as they work toward adjournment .',\n",
       " 'Vandiver likely will mention the $100 million highway bond issue approved earlier in the session as his first priority item .',\n",
       " 'Construction bonds',\n",
       " 'Meanwhile , it was learned the State Highway Department is very near being ready to issue the first $30 million worth of highway reconstruction bonds .',\n",
       " \"The bond issue will go to the state courts for a friendly test suit to test the validity of the act , and then the sales will begin and contracts let for repair work on some of Georgia's most heavily traveled highways .\",\n",
       " 'A Highway Department source said there also is a plan there to issue some $3 million to $4 million worth of Rural Roads Authority bonds for rural road construction work .',\n",
       " 'A revolving fund',\n",
       " 'The department apparently intends to make the Rural Roads Authority a revolving fund under which new bonds would be issued every time a portion of the old ones are paid off by tax authorities .',\n",
       " 'Vandiver opened his race for governor in 1958 with a battle in the Legislature against the issuance of $50 million worth of additional rural roads bonds proposed by then Gov. Marvin Griffin .',\n",
       " 'The Highway Department source told The Constitution , however , that Vandiver has not been consulted yet about the plans to issue the new rural roads bonds .',\n",
       " \"Schley County Rep. B. D. Pelham will offer a resolution Monday in the House to rescind the body's action of Friday in voting itself a $10 per day increase in expense allowances .\",\n",
       " \"Pelham said Sunday night there was research being done on whether the `` quickie '' vote on the increase can be repealed outright or whether notice would have to first be given that reconsideration of the action would be sought .\",\n",
       " 'While emphasizing that technical details were not fully worked out , Pelham said his resolution would seek to set aside the privilege resolution which the House voted through 87-31 .',\n",
       " 'A similar resolution passed in the Senate by a vote of 29-5 .',\n",
       " 'As of Sunday night , there was no word of a resolution being offered there to rescind the action .',\n",
       " 'Pelham pointed out that Georgia voters last November rejected a constitutional amendment to allow legislators to vote on pay raises for future Legislature sessions .',\n",
       " 'A veteran Jackson County legislator will ask the Georgia House Monday to back federal aid to education , something it has consistently opposed in the past .',\n",
       " \"Rep. Mac Barber of Commerce is asking the House in a privilege resolution to `` endorse increased federal support for public education , provided that such funds be received and expended '' as state funds .\",\n",
       " \"Barber , who is in his 13th year as a legislator , said there `` are some members of our congressional delegation in Washington who would like to see it ( the resolution ) passed '' .\",\n",
       " \"But he added that none of Georgia's congressmen specifically asked him to offer the resolution .\",\n",
       " 'The resolution , which Barber tossed into the House hopper Friday , will be formally read Monday .',\n",
       " \"It says that `` in the event Congress does provide this increase in federal funds '' , the State Board of Education should be directed to `` give priority '' to teacher pay raises .\",\n",
       " 'Colquitt',\n",
       " \"-- After a long , hot controversy , Miller County has a new school superintendent , elected , as a policeman put it , in the `` coolest election I ever saw in this county '' .\",\n",
       " 'The new school superintendent is Harry Davis , a veteran agriculture teacher , who defeated Felix Bush , a school principal and chairman of the Miller County Democratic Executive Committee .',\n",
       " \"Davis received 1,119 votes in Saturday's election , and Bush got 402 .\",\n",
       " 'Ordinary Carey Williams , armed with a pistol , stood by at the polls to insure order .',\n",
       " \"`` This was the coolest , calmest election I ever saw '' , Colquitt Policeman Tom Williams said .\",\n",
       " '`` Being at the polls was just like being at church .',\n",
       " \"I didn't smell a drop of liquor , and we didn't have a bit of trouble '' .\",\n",
       " 'The campaign leading to the election was not so quiet , however .',\n",
       " 'It was marked by controversy , anonymous midnight phone calls and veiled threats of violence .',\n",
       " 'The former county school superintendent , George P. Callan , shot himself to death March 18 , four days after he resigned his post in a dispute with the county school board .',\n",
       " 'During the election campaign , both candidates , Davis and Bush , reportedly received anonymous telephone calls .',\n",
       " 'Ordinary Williams said he , too , was subjected to anonymous calls soon after he scheduled the election .',\n",
       " 'Many local citizens feared that there would be irregularities at the polls , and Williams got himself a permit to carry a gun and promised an orderly election .',\n",
       " 'Sheriff Felix Tabb said the ordinary apparently made good his promise .',\n",
       " \"`` Everything went real smooth '' , the sheriff said .\",\n",
       " \"`` There wasn't a bit of trouble '' .\"]"
      ]
     },
     "execution_count": 36,
     "metadata": {},
     "output_type": "execute_result"
    }
   ],
   "source": [
    "[' '.join(sent) for sent in sentences]"
   ]
  },
  {
   "cell_type": "code",
   "execution_count": 37,
   "metadata": {},
   "outputs": [],
   "source": [
    "class TextCleaner():\n",
    "    \n",
    "    def __init__(self):\n",
    "        self.stop_words = set(stopwords.words(\"english\"))\n",
    "        self.punctuations = set(string.punctuation)\n",
    "        self.pos_tags = {\n",
    "                NOUN: ['NN', 'NNS', 'NNP', 'NNPS', 'PRP', 'PRP$', 'WP', 'WP$'],\n",
    "                VERB: ['VB', 'VBD', 'VBG', 'VBN', 'VBP', 'VBZ'],\n",
    "                ADJ: ['JJ', 'JJR', 'JJS'],\n",
    "                ADV: ['RB', 'RBR', 'RBS', 'WRB']\n",
    "        }\n",
    "\n",
    "\n",
    "    def _remove_stop_words(self, words):\n",
    "        return [w for w in words if w not in self.stop_words]\n",
    "     \n",
    "    \n",
    "    def _remove_regex(self):\n",
    "        self.input_sent = \" \".join([w.lower() for w in self.input_sent])\n",
    "        self.input_sent = re.sub(r\"i'm\", \"i am\", self.input_sent)\n",
    "        self.input_sent = re.sub(r\"he's\", \"he is\", self.input_sent)\n",
    "        self.input_sent = re.sub(r\"she's\", \"she is\", self.input_sent)\n",
    "        self.input_sent = re.sub(r\"that's\", \"that is\", self.input_sent)\n",
    "        self.input_sent = re.sub(r\"what's\", \"what is\", self.input_sent)\n",
    "        self.input_sent = re.sub(r\"where's\", \"where is\", self.input_sent)\n",
    "        self.input_sent = re.sub(r\"\\'ll\", \" will\", self.input_sent)\n",
    "        self.input_sent = re.sub(r\"\\'ve\", \" have\", self.input_sent)\n",
    "        self.input_sent = re.sub(r\"\\'re\", \" are\", self.input_sent)\n",
    "        self.input_sent = re.sub(r\"\\'d\", \" would\", self.input_sent)\n",
    "        self.input_sent = re.sub(r\"won't\", \"will not\", self.input_sent)\n",
    "        self.input_sent = re.sub(r\"can't\", \"cannot\", self.input_sent)\n",
    "        self.input_sent = re.sub(r\"don't\", \"do not\", self.input_sent)\n",
    "        patterns = re.finditer(\"#[\\w]*\", self.input_sent)\n",
    "        for pattern in patterns:\n",
    "            self.input_sent = re.sub(pattern.group().strip(), \"\", self.input_sent)\n",
    "        self.input_sent = \"\".join(ch for ch in self.input_sent if ch not in self.punctuations)\n",
    "    \n",
    "    \n",
    "    def _tokenize(self):\n",
    "        return word_tokenize(self.input_sent)\n",
    "    \n",
    "    \n",
    "    def _process_content_for_pos(self, words):\n",
    "        tagged_words = pos_tag(words)\n",
    "        pos_words = []\n",
    "        for word in tagged_words:\n",
    "            flag = False\n",
    "            for key, value in self.pos_tags.items():\n",
    "                if word[1] in value:\n",
    "                    pos_words.append((word[0], key))\n",
    "                    flag = True\n",
    "                    break\n",
    "            if not flag:\n",
    "                pos_words.append((word[0], NOUN))\n",
    "        return pos_words\n",
    "       \n",
    "                 \n",
    "    def _remove_noise(self):\n",
    "        self._remove_regex()\n",
    "        words = self._tokenize()\n",
    "        noise_free_words = self._remove_stop_words(words)\n",
    "        return noise_free_words\n",
    "    \n",
    "    \n",
    "    def _normalize_text(self, words):\n",
    "        lem = WordNetLemmatizer()\n",
    "        pos_words = self._process_content_for_pos(words)\n",
    "        normalized_words = [lem.lemmatize(w, pos=p) for w, p in pos_words]\n",
    "        return normalized_words\n",
    "    \n",
    "    \n",
    "    def clean_up(self, input_sent):\n",
    "        self.input_sent = input_sent\n",
    "        cleaned_words = self._remove_noise()\n",
    "        cleaned_words = self._normalize_text(cleaned_words)\n",
    "        return cleaned_words"
   ]
  },
  {
   "cell_type": "markdown",
   "metadata": {},
   "source": [
    "<h1>PageRank Algorithm</h1>"
   ]
  },
  {
   "cell_type": "code",
   "execution_count": 38,
   "metadata": {},
   "outputs": [],
   "source": [
    "def pagerank(M, eps=1.0e-8, d=0.85):\n",
    "    N = M.shape[1]\n",
    "    v = np.random.rand(N, 1)\n",
    "    v = v / np.linalg.norm(v, 1)\n",
    "    last_v = np.ones((N, 1), dtype=np.float32) * np.inf\n",
    "    M_hat = (d * M) + (((1 - d) / N) * np.ones((N, N), dtype=np.float32))\n",
    "    \n",
    "    while np.linalg.norm(v - last_v, 2) > eps:\n",
    "        last_v = v\n",
    "        v = np.matmul(M_hat, v)\n",
    "    return v"
   ]
  },
  {
   "cell_type": "markdown",
   "metadata": {},
   "source": [
    "<h1>Function to calculate cosine similarity among sentences</h1>"
   ]
  },
  {
   "cell_type": "code",
   "execution_count": 39,
   "metadata": {},
   "outputs": [],
   "source": [
    "def sentence_similarity(sent1, sent2):\n",
    "    text_cleaner = TextCleaner()\n",
    "    \n",
    "    sent1 = text_cleaner.clean_up(sent1)\n",
    "    sent2 = text_cleaner.clean_up(sent2)\n",
    "    \n",
    "    all_words = list(set(sent1 + sent2))\n",
    "    \n",
    "    vector1 = [0] * len(all_words)\n",
    "    vector2 = [0] * len(all_words)\n",
    "    \n",
    "    for w in sent1:\n",
    "        vector1[all_words.index(w)] += 1\n",
    "    \n",
    "    for w in sent2:\n",
    "        vector2[all_words.index(w)] += 1\n",
    "    \n",
    "    return 1 - cosine_distance(vector1, vector2)"
   ]
  },
  {
   "cell_type": "markdown",
   "metadata": {},
   "source": [
    "<h1>Similarity Adjacency Matrix for PageRank</h1>"
   ]
  },
  {
   "cell_type": "code",
   "execution_count": 40,
   "metadata": {},
   "outputs": [],
   "source": [
    "def build_similarity_matrix(sentences):\n",
    "    S = np.zeros((len(sentences), len(sentences)))\n",
    "    for i in range(len(sentences)):\n",
    "        for j in range(len(sentences)):\n",
    "            if i == j:\n",
    "                continue\n",
    "            else:\n",
    "                S[i][j] = sentence_similarity(sentences[i], sentences[j])\n",
    "    \n",
    "    for i in range(len(S)):\n",
    "        S[i] /= S[i].sum()\n",
    "    return S"
   ]
  },
  {
   "cell_type": "code",
   "execution_count": 41,
   "metadata": {},
   "outputs": [
    {
     "data": {
      "text/plain": [
       "['sc tells govt.',\n",
       " 'to review orders — curbing basic rights in j&k  it asks for publication of all orders on restrictions and review of net sugpension  ~ krishnadas rajagopal new delhi     ’the supreme court on fri- |  _ day ordered the government : to review “forthwith” any ex- isting orders that restrict basic rights and free move- } ment in jammu and kashmir.',\n",
       " 'the court upheld the free- doms of free speech, expres- sion and trade or business on the internet as funda- ; mental rights to be constitu- : tionally protected.',\n",
       " '* it, however, refused to ex- _ press any views on whether ‘ the very access to internet is a fundamental right or not.',\n",
       " '+ thetop court directed the ‘government to review orders suspending internet services in the erstwhile state in- 5 atl: any order suspend- hing.',\n",
       " \"internet found to violate     life offline: students waiting to use the internet at the _ divisional commissioner's office in srinagar recently.\",\n",
       " '=afp  the law should be revoked at  once, it ordered.',\n",
       " 'it further instructed the  “government to consider res-  toring.',\n",
       " 'government websites, localised/limited e- -banking  facilities, hospital services - and.',\n",
       " 'other essential services | : jn areas in the union territo-  ty, where it was otherwise not.',\n",
       " 'thinking to do.',\n",
       " 'so immediately.',\n",
       " 'ripping into the veil of se- crecy shrouding the months’ long restrictions imposed across j&k,,a three-judge bench, led by justice nv.',\n",
       " 'ra- mana, on friday : made.',\n",
       " 'it  mandatory for the govern- ment to publish each and ev- ery one of its orders that crippled the fundamental  ’ freedoms of over seven mil-  lion kashmiris, including the suspension of telecom and internet services in the val- ley since august 5 following the abrogation of special sta- tus to the erstwhile state un- der article 370. publication of these or-  ders would now enable the  affected persons to chal- lenge their legality in the jammu and.',\n",
       " 'kashmir high court or before any other  appropriate forum.',\n",
       " 'continued on) page 10 - eloquently reticent > editorial  - more reports > page 10']"
      ]
     },
     "execution_count": 41,
     "metadata": {},
     "output_type": "execute_result"
    }
   ],
   "source": [
    "sentences = mysentences\n",
    "sentences"
   ]
  },
  {
   "cell_type": "code",
   "execution_count": 15,
   "metadata": {},
   "outputs": [
    {
     "data": {
      "text/plain": [
       "array([[0.        , 0.06038976, 0.06385489, 0.05952598, 0.06341114,\n",
       "        0.07231609, 0.07750558, 0.05199449, 0.1039077 , 0.05133225,\n",
       "        0.01951512, 0.0923624 , 0.07838156, 0.01632752, 0.08554304,\n",
       "        0.02851875, 0.07511373],\n",
       "       [0.03128756, 0.        , 0.07016961, 0.07151806, 0.07193538,\n",
       "        0.06774881, 0.06650971, 0.07348128, 0.06283554, 0.07071245,\n",
       "        0.03579502, 0.04235324, 0.07093415, 0.06382416, 0.06971804,\n",
       "        0.06488684, 0.06629015],\n",
       "       [0.03275579, 0.06947596, 0.        , 0.07148933, 0.07198959,\n",
       "        0.06991914, 0.07002324, 0.06808834, 0.06696268, 0.06977971,\n",
       "        0.02865061, 0.05524421, 0.0706666 , 0.0550441 , 0.07304718,\n",
       "        0.05763455, 0.06922897],\n",
       "       [0.03083944, 0.07151667, 0.07220168, 0.        , 0.07424047,\n",
       "        0.06872088, 0.07050483, 0.07033503, 0.06529792, 0.07423082,\n",
       "        0.02866847, 0.05257754, 0.06927306, 0.05636655, 0.07113792,\n",
       "        0.05760584, 0.06648287],\n",
       "       [0.03242052, 0.07098859, 0.07175137, 0.07326477, 0.        ,\n",
       "        0.06823051, 0.06802307, 0.07065606, 0.06586305, 0.07251876,\n",
       "        0.03150817, 0.05219336, 0.07007937, 0.05623814, 0.07065816,\n",
       "        0.05627722, 0.06932888],\n",
       "       [0.03814671, 0.06897878, 0.07189926, 0.06996985, 0.07039575,\n",
       "        0.        , 0.06423999, 0.06790773, 0.06986517, 0.06788085,\n",
       "        0.03823177, 0.05277585, 0.06819212, 0.06290775, 0.07373786,\n",
       "        0.04717965, 0.06769091],\n",
       "       [0.04174481, 0.06914268, 0.0735221 , 0.07329738, 0.07165911,\n",
       "        0.06559229, 0.        , 0.06478566, 0.07040463, 0.07167339,\n",
       "        0.01716426, 0.06498889, 0.06938422, 0.04595408, 0.07327549,\n",
       "        0.05936377, 0.06804723],\n",
       "       [0.02778618, 0.07579488, 0.07093334, 0.07255098, 0.07385274,\n",
       "        0.06879685, 0.06428074, 0.        , 0.06053102, 0.07162347,\n",
       "        0.03465545, 0.04100488, 0.07087887, 0.0662739 , 0.06887824,\n",
       "        0.06451123, 0.06764723],\n",
       "       [0.05615948, 0.06554994, 0.0705528 , 0.06812002, 0.06962462,\n",
       "        0.07158365, 0.07064916, 0.06121838, 0.        , 0.06616571,\n",
       "        0.0311303 , 0.06577477, 0.07029527, 0.04650978, 0.07467011,\n",
       "        0.04224331, 0.0697527 ],\n",
       "       [0.02714139, 0.07216543, 0.07192453, 0.07575758, 0.07499594,\n",
       "        0.06804039, 0.0703607 , 0.07086398, 0.06472907, 0.        ,\n",
       "        0.02901536, 0.05364288, 0.06907746, 0.05765549, 0.07064388,\n",
       "        0.05697781, 0.06700811],\n",
       "       [0.0232784 , 0.08241307, 0.06662264, 0.06600647, 0.07351073,\n",
       "        0.0864538 , 0.03801346, 0.07735385, 0.06870524, 0.06545882,\n",
       "        0.        , 0.        , 0.08705502, 0.08328333, 0.07588478,\n",
       "        0.04848943, 0.05747096],\n",
       "       [0.06553534, 0.05800409, 0.07641406, 0.072008  , 0.0724338 ,\n",
       "        0.07098938, 0.08561501, 0.0544433 , 0.0863504 , 0.07198644,\n",
       "        0.        , 0.        , 0.0658098 , 0.0293083 , 0.07944639,\n",
       "        0.0341279 , 0.07752781],\n",
       "       [0.0408147 , 0.07129347, 0.07173366, 0.06962532, 0.07137375,\n",
       "        0.06731544, 0.06708012, 0.06906341, 0.06772569, 0.06802951,\n",
       "        0.03800272, 0.04829619, 0.        , 0.05181465, 0.07210506,\n",
       "        0.05827843, 0.06744788],\n",
       "       [0.01083781, 0.08177076, 0.07122594, 0.07221756, 0.07301261,\n",
       "        0.07915954, 0.05663382, 0.08231752, 0.05712027, 0.07238027,\n",
       "        0.04634442, 0.02741773, 0.06604974, 0.        , 0.06889341,\n",
       "        0.0677262 , 0.06689241],\n",
       "       [0.04342456, 0.06831052, 0.07228703, 0.06970309, 0.07015502,\n",
       "        0.0709609 , 0.06906214, 0.06542765, 0.07013298, 0.06782404,\n",
       "        0.03229413, 0.05683876, 0.07029329, 0.05268745, 0.        ,\n",
       "        0.05269949, 0.06789896],\n",
       "       [0.01901337, 0.08349816, 0.0749062 , 0.07413022, 0.07338494,\n",
       "        0.05962951, 0.07348194, 0.08048084, 0.05210882, 0.07184436,\n",
       "        0.02710153, 0.03206697, 0.07461631, 0.06802431, 0.06921246,\n",
       "        0.        , 0.06650008],\n",
       "       [0.04037868, 0.06878178, 0.07254822, 0.06898308, 0.07289414,\n",
       "        0.06898282, 0.06791625, 0.06804736, 0.06937747, 0.06812687,\n",
       "        0.02589997, 0.05873675, 0.06963032, 0.05417368, 0.07190269,\n",
       "        0.05361993, 0.        ]])"
      ]
     },
     "execution_count": 15,
     "metadata": {},
     "output_type": "execute_result"
    }
   ],
   "source": [
    "S = build_similarity_matrix(sentences)\n",
    "S"
   ]
  },
  {
   "cell_type": "code",
   "execution_count": 16,
   "metadata": {
    "scrolled": true
   },
   "outputs": [
    {
     "data": {
      "text/plain": [
       "array([[0.08545412],\n",
       "       [0.0996755 ],\n",
       "       [0.01184276],\n",
       "       [0.00762235],\n",
       "       [0.06512511],\n",
       "       [0.02479644],\n",
       "       [0.0880892 ],\n",
       "       [0.02358452],\n",
       "       [0.08537407],\n",
       "       [0.10950929],\n",
       "       [0.06594962],\n",
       "       [0.10300778],\n",
       "       [0.06076176],\n",
       "       [0.06250809],\n",
       "       [0.01301882],\n",
       "       [0.01601348],\n",
       "       [0.07766709]])"
      ]
     },
     "execution_count": 16,
     "metadata": {},
     "output_type": "execute_result"
    }
   ],
   "source": [
    "sentence_ranks = pagerank(S)\n",
    "sentence_ranks"
   ]
  },
  {
   "cell_type": "markdown",
   "metadata": {},
   "source": [
    "<h1>Sentence Ranked according to their importance</h1>"
   ]
  },
  {
   "cell_type": "code",
   "execution_count": 17,
   "metadata": {
    "scrolled": true
   },
   "outputs": [
    {
     "data": {
      "text/plain": [
       "[9, 11, 1, 6, 0, 8, 16, 10, 4, 13, 12, 5, 7, 15, 14, 2, 3]"
      ]
     },
     "execution_count": 17,
     "metadata": {},
     "output_type": "execute_result"
    }
   ],
   "source": [
    "ranked_sentence_indexes = [item[0] for item in sorted(enumerate(sentence_ranks), key=lambda item: -item[1])]\n",
    "ranked_sentence_indexes"
   ]
  },
  {
   "cell_type": "code",
   "execution_count": 18,
   "metadata": {},
   "outputs": [
    {
     "data": {
      "image/png": "[encoded data removed]",
      "text/plain": [
       "<Figure size 432x288 with 1 Axes>"
      ]
     },
     "metadata": {
      "needs_background": "light"
     },
     "output_type": "display_data"
    }
   ],
   "source": [
    "plt.bar([item[0] for item in sorted(enumerate(sentence_ranks))], sentence_ranks.T[0])\n",
    "plt.xlabel(\"Sentence No.\")\n",
    "plt.ylabel(\"Importance\")\n",
    "plt.show()"
   ]
  },
  {
   "cell_type": "code",
   "execution_count": 19,
   "metadata": {},
   "outputs": [
    {
     "data": {
      "image/png": "[encoded data removed]",
      "text/plain": [
       "<Figure size 432x288 with 1 Axes>"
      ]
     },
     "metadata": {
      "needs_background": "light"
     },
     "output_type": "display_data"
    }
   ],
   "source": [
    "plt.plot([item[0] for item in sorted(enumerate(sentence_ranks))], sentence_ranks)\n",
    "plt.xlabel(\"Sentence No.\")\n",
    "plt.ylabel(\"Importance\")\n",
    "plt.show()"
   ]
  },
  {
   "cell_type": "code",
   "execution_count": 20,
   "metadata": {},
   "outputs": [],
   "source": [
    "SUMMARY_SIZE = 5"
   ]
  },
  {
   "cell_type": "code",
   "execution_count": 21,
   "metadata": {},
   "outputs": [],
   "source": [
    "selected_sentences = sorted(ranked_sentence_indexes[:SUMMARY_SIZE])"
   ]
  },
  {
   "cell_type": "code",
   "execution_count": 22,
   "metadata": {},
   "outputs": [
    {
     "data": {
      "text/plain": [
       "[0, 1, 6, 9, 11]"
      ]
     },
     "execution_count": 22,
     "metadata": {},
     "output_type": "execute_result"
    }
   ],
   "source": [
    "selected_sentences"
   ]
  },
  {
   "cell_type": "code",
   "execution_count": 23,
   "metadata": {},
   "outputs": [],
   "source": [
    "summary = itemgetter(*selected_sentences)(sentences)"
   ]
  },
  {
   "cell_type": "markdown",
   "metadata": {},
   "source": [
    "<h1>Generated Summary</h1>"
   ]
  },
  {
   "cell_type": "code",
   "execution_count": 24,
   "metadata": {},
   "outputs": [
    {
     "name": "stdout",
     "output_type": "stream",
     "text": [
      "Num words  88\n"
     ]
    }
   ],
   "source": [
    "string=\"\"\n",
    "for sent in summary:\n",
    "    string+=sent\n",
    "nw=string.split()\n",
    "print(\"Num words \",len(nw))"
   ]
  },
  {
   "cell_type": "code",
   "execution_count": 25,
   "metadata": {},
   "outputs": [
    {
     "name": "stdout",
     "output_type": "stream",
     "text": [
      "sc tells govt.to review orders — curbing basic rights in j&k  it asks for publication of all orders on restrictions and review of net sugpension  ~ krishnadas rajagopal new delhi     ’the supreme court on fri- |  _ day ordered the government : to review “forthwith” any ex- isting orders that restrict basic rights and free move- } ment in jammu and kashmir.=afp  the law should be revoked at  once, it ordered.other essential services | : jn areas in the union territo-  ty, where it was otherwise not.so immediately.\n"
     ]
    }
   ],
   "source": [
    "print(string)"
   ]
  },
  {
   "cell_type": "code",
   "execution_count": null,
   "metadata": {},
   "outputs": [],
   "source": []
  }
 ],
 "metadata": {
  "kernelspec": {
   "display_name": "Python 3",
   "language": "python",
   "name": "python3"
  },
  "language_info": {
   "codemirror_mode": {
    "name": "ipython",
    "version": 3
   },
   "file_extension": ".py",
   "mimetype": "text/x-python",
   "name": "python",
   "nbconvert_exporter": "python",
   "pygments_lexer": "ipython3",
   "version": "3.7.6"
  }
 },
 "nbformat": 4,
 "nbformat_minor": 2
}
